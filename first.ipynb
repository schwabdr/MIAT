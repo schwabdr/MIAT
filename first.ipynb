{
 "cells": [
  {
   "cell_type": "code",
   "execution_count": 1,
   "id": "da3d0275",
   "metadata": {},
   "outputs": [],
   "source": [
    "import numpy as np"
   ]
  },
  {
   "cell_type": "markdown",
   "id": "fbbbbbe3",
   "metadata": {},
   "source": [
    "So here we make a proxy for the actual CIFAR-10 data to understand how to reshape it. CIFAR-10 is in \"chunks\", each chunk is 10,000 by 3072. Each data point is in the range [0,255] as uint8. Row major order, so it something like this:\n"
   ]
  },
  {
   "cell_type": "markdown",
   "id": "71f820a4",
   "metadata": {},
   "source": [
    "[0][1024 red values][1024 blue values][1024 green values]\n",
    "Where in row[i] we have:\n",
    "[1-31] row 1 of red values\n",
    "[32-63] row 2 of red values\n",
    "...\n",
    "[992-1023] row 32 of red values\n",
    "[1-31] row 1 of green\n"
   ]
  },
  {
   "cell_type": "code",
   "execution_count": 4,
   "id": "694a3468",
   "metadata": {},
   "outputs": [
    {
     "name": "stdout",
     "output_type": "stream",
     "text": [
      "[[[[  1   2   3   4   5]\n",
      "   [  6   7   8   9  10]\n",
      "   [ 11  12  13  14  15]\n",
      "   [ 16  17  18  19  20]]\n",
      "\n",
      "  [[ 21  22  23  24  25]\n",
      "   [ 26  27  28  29  30]\n",
      "   [ 31  32  33  34  35]\n",
      "   [ 36  37  38  39  40]]\n",
      "\n",
      "  [[ 41  42  43  44  45]\n",
      "   [ 46  47  48  49  50]\n",
      "   [ 51  52  53  54  55]\n",
      "   [ 56  57  58  59  60]]]\n",
      "\n",
      "\n",
      " [[[ 61  62  63  64  65]\n",
      "   [ 66  67  68  69  70]\n",
      "   [ 71  72  73  74  75]\n",
      "   [ 76  77  78  79  80]]\n",
      "\n",
      "  [[ 81  82  83  84  85]\n",
      "   [ 86  87  88  89  90]\n",
      "   [ 91  92  93  94  95]\n",
      "   [ 96  97  98  99 100]]\n",
      "\n",
      "  [[101 102 103 104 105]\n",
      "   [106 107 108 109 110]\n",
      "   [111 112 113 114 115]\n",
      "   [116 117 118 119 120]]]]\n",
      "[[[[  1  21  41]\n",
      "   [  2  22  42]\n",
      "   [  3  23  43]\n",
      "   [  4  24  44]\n",
      "   [  5  25  45]]\n",
      "\n",
      "  [[  6  26  46]\n",
      "   [  7  27  47]\n",
      "   [  8  28  48]\n",
      "   [  9  29  49]\n",
      "   [ 10  30  50]]\n",
      "\n",
      "  [[ 11  31  51]\n",
      "   [ 12  32  52]\n",
      "   [ 13  33  53]\n",
      "   [ 14  34  54]\n",
      "   [ 15  35  55]]\n",
      "\n",
      "  [[ 16  36  56]\n",
      "   [ 17  37  57]\n",
      "   [ 18  38  58]\n",
      "   [ 19  39  59]\n",
      "   [ 20  40  60]]]\n",
      "\n",
      "\n",
      " [[[ 61  81 101]\n",
      "   [ 62  82 102]\n",
      "   [ 63  83 103]\n",
      "   [ 64  84 104]\n",
      "   [ 65  85 105]]\n",
      "\n",
      "  [[ 66  86 106]\n",
      "   [ 67  87 107]\n",
      "   [ 68  88 108]\n",
      "   [ 69  89 109]\n",
      "   [ 70  90 110]]\n",
      "\n",
      "  [[ 71  91 111]\n",
      "   [ 72  92 112]\n",
      "   [ 73  93 113]\n",
      "   [ 74  94 114]\n",
      "   [ 75  95 115]]\n",
      "\n",
      "  [[ 76  96 116]\n",
      "   [ 77  97 117]\n",
      "   [ 78  98 118]\n",
      "   [ 79  99 119]\n",
      "   [ 80 100 120]]]]\n"
     ]
    }
   ],
   "source": [
    "x = np.arange(120) + 1\n",
    "x = x.reshape(2,60) #this is a proxy for my data array above - we have 2 'images' here\n",
    "x = x.reshape(2,3,4,5) # 2 imgs, 3 channels, a 4 rows, 5 columns\n",
    "\n",
    "print(x)\n",
    "\n",
    "x = x.transpose(0,2,3,1).astype(\"uint8\") # so we make it 2 imgs, 4 rows, 5 cols, 3 channels\n",
    "\n",
    "print(x)\n"
   ]
  },
  {
   "cell_type": "markdown",
   "id": "5964744f",
   "metadata": {},
   "source": [
    "So with the new layout, lets say we want to print the first image, second row, third col, red channel. What value should we expect? Run the next block to check your answer."
   ]
  },
  {
   "cell_type": "code",
   "execution_count": 5,
   "id": "beb35d64",
   "metadata": {},
   "outputs": [
    {
     "name": "stdout",
     "output_type": "stream",
     "text": [
      "8\n"
     ]
    }
   ],
   "source": [
    "print(x[0][1][2][0]) #first image, second row, third column, 1st (red) channel"
   ]
  }
 ],
 "metadata": {
  "kernelspec": {
   "display_name": "Python 3.7.9 ('phd01')",
   "language": "python",
   "name": "python3"
  },
  "language_info": {
   "codemirror_mode": {
    "name": "ipython",
    "version": 3
   },
   "file_extension": ".py",
   "mimetype": "text/x-python",
   "name": "python",
   "nbconvert_exporter": "python",
   "pygments_lexer": "ipython3",
   "version": "3.7.9"
  },
  "vscode": {
   "interpreter": {
    "hash": "f1939678cb6bf691847b9b6e1eca5be38c073a6d394ddbb3b0d8676700d44e64"
   }
  }
 },
 "nbformat": 4,
 "nbformat_minor": 5
}
